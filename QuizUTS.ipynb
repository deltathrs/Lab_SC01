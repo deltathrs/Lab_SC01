{
  "nbformat": 4,
  "nbformat_minor": 0,
  "metadata": {
    "colab": {
      "name": "Copy of Untitled1.ipynb",
      "provenance": [],
      "authorship_tag": "ABX9TyNQNzk2JG8kGCeJTz/ZLK4d",
      "include_colab_link": true
    },
    "kernelspec": {
      "name": "python3",
      "display_name": "Python 3"
    },
    "language_info": {
      "name": "python"
    }
  },
  "cells": [
    {
      "cell_type": "markdown",
      "metadata": {
        "id": "view-in-github",
        "colab_type": "text"
      },
      "source": [
        "<a href=\"https://colab.research.google.com/github/deltathrs/Lab_SC01/blob/main/QuizUTS.ipynb\" target=\"_parent\"><img src=\"https://colab.research.google.com/assets/colab-badge.svg\" alt=\"Open In Colab\"/></a>"
      ]
    },
    {
      "cell_type": "code",
      "execution_count": 5,
      "metadata": {
        "colab": {
          "base_uri": "https://localhost:8080/"
        },
        "id": "VZ3cZG-C5IId",
        "outputId": "16b82d04-f878-4206-d51a-86418774ebff"
      },
      "outputs": [
        {
          "output_type": "stream",
          "name": "stdout",
          "text": [
            "0.003 \t 0.32 \t 0.2125 \t 0.0417 \t \n",
            "0.067 \t 0.405 \t 0.2375 \t \n",
            "0.148 \t 0.5 \t \n",
            "0.248 \t \n",
            "\n",
            "Value at 0.58 is 0.19\n"
          ]
        }
      ],
      "source": [
        "def proterm(i, value, x): \n",
        "    pro = 1; \n",
        "    for j in range(i): \n",
        "        pro = pro * (value - x[j]); \n",
        "    return pro; \n",
        "\n",
        "def dividedDiffTable(x, y, n):\n",
        "  \n",
        "    for i in range(1, n): \n",
        "        for j in range(n - i): \n",
        "            y[j][i] = ((y[j][i - 1] - y[j + 1][i - 1]) /\n",
        "                                     (x[j] - x[i + j]));\n",
        "    return y;\n",
        "  \n",
        "def applyFormula(value, x, y, n): \n",
        "  \n",
        "    sum = y[0][0]; \n",
        "  \n",
        "    for i in range(1, n):\n",
        "        sum = sum + (proterm(i, value, x) * y[0][i]); \n",
        "      \n",
        "    return sum; \n",
        "  \n",
        "def printDiffTable(y, n): \n",
        "  \n",
        "    for i in range(n): \n",
        "        for j in range(n - i): \n",
        "            print(round(y[i][j], 4), \"\\t\", \n",
        "                               end = \" \"); \n",
        "  \n",
        "        print(\"\"); \n",
        "  \n",
        "n = 4; \n",
        "y = [[0 for i in range(10)] \n",
        "        for j in range(10)]; \n",
        "x = [ 0.1,0.3,0.5,0.7,0.9,1.1,1.3]; \n",
        "  \n",
        "y[0][0] = 0.003; \n",
        "y[1][0] = 0.067; \n",
        "y[2][0] = 0.148; \n",
        "y[3][0] = 0.248; \n",
        "y[4][0] =0.370;\n",
        "y[5][0] =0.518;\n",
        "y[6][0] =0.697;\n",
        "# calculating divided difference table \n",
        "y=dividedDiffTable(x, y, n); \n",
        "  \n",
        "# displaying divided difference table \n",
        "printDiffTable(y, n); \n",
        "  \n",
        "# value to be interpolated \n",
        "value = 0.58; \n",
        "  \n",
        "# printing the value \n",
        "print(\"\\nValue at\", value, \"is\",\n",
        "        round(applyFormula(value, x, y, n), 2))\n",
        "  "
      ]
    },
    {
      "cell_type": "code",
      "source": [
        "import matplotlib.pyplot as p \n",
        "\n",
        "#x-values\n",
        "x = [0.1,0.3,0.5,0.7,0.9,1.1,1.3]\n",
        "\n",
        "#y-values\n",
        "y = [0.003,0.067,0.148,0.248,0.370,0.518,0.697]\n",
        "\n",
        "p.plot(x, y)\n",
        "p.xlabel(\"X LABEL\")\n",
        "p.ylabel(\"f(x) LABEL\")\n",
        "p.title(\"LINE GRAPHIC\")\n"
      ],
      "metadata": {
        "colab": {
          "base_uri": "https://localhost:8080/",
          "height": 312
        },
        "id": "1YT1yMHA6eIF",
        "outputId": "5ddd77dd-8759-48b6-98a4-5286a23500e3"
      },
      "execution_count": 3,
      "outputs": [
        {
          "output_type": "execute_result",
          "data": {
            "text/plain": [
              "Text(0.5, 1.0, 'LINE GRAPHIC')"
            ]
          },
          "metadata": {},
          "execution_count": 3
        },
        {
          "output_type": "display_data",
          "data": {
            "text/plain": [
              "<Figure size 432x288 with 1 Axes>"
            ],
            "image/png": "[encoded data removed]"
          },
          "metadata": {
            "needs_background": "light"
          }
        }
      ]
    },
    {
      "cell_type": "code",
      "source": [
        "import numpy as np\n",
        "import matplotlib.pyplot as plt\n",
        " \n",
        "def estimate_coef(x, y):\n",
        "    # number of observations/points\n",
        "    n = np.size(x)\n",
        " \n",
        "    # mean of x and y vector\n",
        "    m_x = np.mean(x)\n",
        "    m_y = np.mean(y)\n",
        " \n",
        "    # calculating cross-deviation and deviation about x\n",
        "    SS_xy = np.sum(y*x) - n*m_y*m_x\n",
        "    SS_xx = np.sum(x*x) - n*m_x*m_x\n",
        " \n",
        "    # calculating regression coefficients\n",
        "    b_1 = SS_xy / SS_xx\n",
        "    b_0 = m_y - b_1*m_x\n",
        " \n",
        "    return (b_0, b_1)\n",
        " \n",
        "def plot_regression_line(x, y, b):\n",
        "    # plotting the actual points as scatter plot\n",
        "    plt.scatter(x, y, color = \"m\",\n",
        "               marker = \"o\", s = 30)\n",
        " \n",
        "    # predicted response vector\n",
        "    y_pred = b[0] + b[1]*x\n",
        " \n",
        "    # plotting the regression line\n",
        "    plt.plot(x, y_pred, color = \"g\")\n",
        " \n",
        "    # putting labels\n",
        "    plt.xlabel('x')\n",
        "    plt.ylabel('y')\n",
        " \n",
        "    # function to show plot\n",
        "    plt.show()\n",
        " \n",
        "def main():\n",
        "    # observations / data\n",
        "    x = np.array([0.198,0.56,0.977,1.495,2.159,3.013,4.1])\n",
        "    y = np.array([0.0006,0.0402,0.148,0.3472,0.666,1.1396,1.8122])\n",
        " \n",
        "    # estimating coefficients\n",
        "    b = estimate_coef(x, y)\n",
        "    print(\"Estimated coefficients:\\nb_0 = {}  \\\n",
        "          \\nb_1 = {}\".format(b[0], b[1]))\n",
        " \n",
        "    # plotting regression line\n",
        "    plot_regression_line(x, y, b)\n",
        " \n",
        "if __name__ == \"__main__\":\n",
        "    main()"
      ],
      "metadata": {
        "colab": {
          "base_uri": "https://localhost:8080/",
          "height": 331
        },
        "id": "Dio6bBJDVpTx",
        "outputId": "c4a0e002-0b81-4764-b10a-6b759641ac49"
      },
      "execution_count": 1,
      "outputs": [
        {
          "output_type": "stream",
          "name": "stdout",
          "text": [
            "Estimated coefficients:\n",
            "b_0 = -0.25215569409642            \n",
            "b_1 = 0.4734354390237514\n"
          ]
        },
        {
          "output_type": "display_data",
          "data": {
            "text/plain": [
              "<Figure size 432x288 with 1 Axes>"
            ],
            "image/png": "[encoded data removed]"
          },
          "metadata": {
            "needs_background": "light"
          }
        }
      ]
    }
  ]
}