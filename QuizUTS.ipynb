{
  "nbformat": 4,
  "nbformat_minor": 0,
  "metadata": {
    "colab": {
      "name": "Untitled1.ipynb",
      "provenance": [],
      "authorship_tag": "ABX9TyMrRMhrWxZmeaEks2c040Eq",
      "include_colab_link": true
    },
    "kernelspec": {
      "name": "python3",
      "display_name": "Python 3"
    },
    "language_info": {
      "name": "python"
    }
  },
  "cells": [
    {
      "cell_type": "markdown",
      "metadata": {
        "id": "view-in-github",
        "colab_type": "text"
      },
      "source": [
        "<a href=\"https://colab.research.google.com/github/deltathrs/Lab_SC01/blob/main/QuizUTS.ipynb\" target=\"_parent\"><img src=\"https://colab.research.google.com/assets/colab-badge.svg\" alt=\"Open In Colab\"/></a>"
      ]
    },
    {
      "cell_type": "code",
      "execution_count": 3,
      "metadata": {
        "colab": {
          "base_uri": "https://localhost:8080/"
        },
        "id": "VZ3cZG-C5IId",
        "outputId": "6c24e468-b0f6-45c2-db20-1f261d68fade"
      },
      "outputs": [
        {
          "output_type": "stream",
          "name": "stdout",
          "text": [
            "0.003 \t 0.32 \t 0.2125 \t 0.0417 \t \n",
            "0.067 \t 0.405 \t 0.2375 \t \n",
            "0.148 \t 0.5 \t \n",
            "0.248 \t \n",
            "\n",
            "Value at 0.58 is 0.19\n"
          ]
        }
      ],
      "source": [
        "def proterm(i, value, x): \n",
        "    pro = 1; \n",
        "    for j in range(i): \n",
        "        pro = pro * (value - x[j]); \n",
        "    return pro; \n",
        "\n",
        "def dividedDiffTable(x, y, n):\n",
        "  \n",
        "    for i in range(1, n): \n",
        "        for j in range(n - i): \n",
        "            y[j][i] = ((y[j][i - 1] - y[j + 1][i - 1]) /\n",
        "                                     (x[j] - x[i + j]));\n",
        "    return y;\n",
        "  \n",
        "def applyFormula(value, x, y, n): \n",
        "  \n",
        "    sum = y[0][0]; \n",
        "  \n",
        "    for i in range(1, n):\n",
        "        sum = sum + (proterm(i, value, x) * y[0][i]); \n",
        "      \n",
        "    return sum; \n",
        "  \n",
        "def printDiffTable(y, n): \n",
        "  \n",
        "    for i in range(n): \n",
        "        for j in range(n - i): \n",
        "            print(round(y[i][j], 4), \"\\t\", \n",
        "                               end = \" \"); \n",
        "  \n",
        "        print(\"\"); \n",
        "  \n",
        "n = 4; \n",
        "y = [[0 for i in range(10)] \n",
        "        for j in range(10)]; \n",
        "x = [ 0.1,0.3,0.5,0.7,0.9,1.1,1.3]; \n",
        "  \n",
        "y[0][0] = 0.003; \n",
        "y[1][0] = 0.067; \n",
        "y[2][0] = 0.148; \n",
        "y[3][0] = 0.248; \n",
        "y[4][0] =0.370;\n",
        "y[5][0] =0.518;\n",
        "y[6][0] =0.697;\n",
        "# calculating divided difference table \n",
        "y=dividedDiffTable(x, y, n); \n",
        "  \n",
        "# displaying divided difference table \n",
        "printDiffTable(y, n); \n",
        "  \n",
        "# value to be interpolated \n",
        "value = 0.58; \n",
        "  \n",
        "# printing the value \n",
        "print(\"\\nValue at\", value, \"is\",\n",
        "        round(applyFormula(value, x, y, n), 2))\n",
        "  "
      ]
    }
  ]
}