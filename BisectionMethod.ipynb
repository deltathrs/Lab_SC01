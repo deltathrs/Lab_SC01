{
  "nbformat": 4,
  "nbformat_minor": 0,
  "metadata": {
    "colab": {
      "name": "Untitled3.ipynb",
      "provenance": [],
      "authorship_tag": "ABX9TyNl0pvawnjWiV3W0PMTcDp5",
      "include_colab_link": true
    },
    "kernelspec": {
      "name": "python3",
      "display_name": "Python 3"
    },
    "language_info": {
      "name": "python"
    }
  },
  "cells": [
    {
      "cell_type": "markdown",
      "metadata": {
        "id": "view-in-github",
        "colab_type": "text"
      },
      "source": [
        "<a href=\"https://colab.research.google.com/github/deltathrs/Lab_SC01/blob/main/BisectionMethod.ipynb\" target=\"_parent\"><img src=\"https://colab.research.google.com/assets/colab-badge.svg\" alt=\"Open In Colab\"/></a>"
      ]
    },
    {
      "cell_type": "markdown",
      "source": [
        "Bisection Method"
      ],
      "metadata": {
        "id": "jwCIlBwQ2wKy"
      }
    },
    {
      "cell_type": "code",
      "execution_count": 3,
      "metadata": {
        "colab": {
          "base_uri": "https://localhost:8080/"
        },
        "id": "ePBgpWQc2uS4",
        "outputId": "f8f6b196-8dbe-415c-af53-42e742302207"
      },
      "outputs": [
        {
          "output_type": "stream",
          "name": "stdout",
          "text": [
            "First Guess: 2\n",
            "Second Guess: 3\n",
            "Tolerable Error: 2\n",
            "Iteration-1, x2 = 2.500000 and f(x2) = -5.875000\n",
            "Iteration-2, x2 = 2.750000 and f(x2) = -1.953125\n",
            "\n",
            "Required Root is : 2.75000000\n"
          ]
        }
      ],
      "source": [
        "def f(x):\n",
        "    return x**3-5*x-9\n",
        "\n",
        "def bisection(x0,x1,e):\n",
        "    step = 1\n",
        "    condition = True\n",
        "    while condition:\n",
        "        x2 = (x0 + x1)/2\n",
        "        print('Iteration-%d, x2 = %0.6f and f(x2) = %0.6f' % (step, x2, f(x2)))\n",
        "\n",
        "        if f(x0) * f(x2) < 0:\n",
        "            x1 = x2\n",
        "        else:\n",
        "            x0 = x2\n",
        "        \n",
        "        step = step + 1\n",
        "        condition = abs(f(x2)) > e\n",
        "\n",
        "    print('\\nRequired Root is : %0.8f' % x2)\n",
        "\n",
        "x0 = input('First Guess: ')\n",
        "x1 = input('Second Guess: ')\n",
        "e = input('Tolerable Error: ')\n",
        "\n",
        "# Converting input to float\n",
        "x0 = float(x0)\n",
        "x1 = float(x1)\n",
        "e = float(e)\n",
        "\n",
        "if f(x0) * f(x1) > 0.0:\n",
        "    print('Given guess values do not bracket the root.')\n",
        "    print('Try Again with different guess values.')\n",
        "else:\n",
        "    bisection(x0,x1,e)\n"
      ]
    }
  ]
}