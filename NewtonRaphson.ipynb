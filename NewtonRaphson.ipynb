{
  "nbformat": 4,
  "nbformat_minor": 0,
  "metadata": {
    "colab": {
      "name": "Untitled4.ipynb",
      "provenance": [],
      "authorship_tag": "ABX9TyO5C68TWhEViNh3CT0thBkA",
      "include_colab_link": true
    },
    "kernelspec": {
      "name": "python3",
      "display_name": "Python 3"
    },
    "language_info": {
      "name": "python"
    }
  },
  "cells": [
    {
      "cell_type": "markdown",
      "metadata": {
        "id": "view-in-github",
        "colab_type": "text"
      },
      "source": [
        "<a href=\"https://colab.research.google.com/github/deltathrs/Lab_SC01/blob/main/NewtonRaphson.ipynb\" target=\"_parent\"><img src=\"https://colab.research.google.com/assets/colab-badge.svg\" alt=\"Open In Colab\"/></a>"
      ]
    },
    {
      "cell_type": "markdown",
      "source": [
        "Newton Raphson Method"
      ],
      "metadata": {
        "id": "QEdYXdE24UZf"
      }
    },
    {
      "cell_type": "code",
      "execution_count": 1,
      "metadata": {
        "colab": {
          "base_uri": "https://localhost:8080/"
        },
        "id": "b7pKg88Y4S9q",
        "outputId": "718ec44d-7a09-4ac6-80d4-51b2c6f02542"
      },
      "outputs": [
        {
          "output_type": "stream",
          "name": "stdout",
          "text": [
            "Enter Guess: 1\n",
            "Tolerable Error: 2\n",
            "Maximum Step: 3\n",
            "Iteration-1, x1 = -5.500000 and f(x1) = -147.875000\n",
            "Iteration-2, x1 = -3.775510 and f(x1) = -43.940373\n",
            "Iteration-3, x1 = -2.611941 and f(x1) = -13.759569\n",
            "\n",
            "Not Convergent.\n"
          ]
        }
      ],
      "source": [
        "def f(x):\n",
        "    return x**3 - 5*x - 9\n",
        "\n",
        "def g(x):\n",
        "    return 3*x**2 - 5\n",
        "\n",
        "\n",
        "def newtonRaphson(x0,e,N):\n",
        "    step = 1\n",
        "    flag = 1\n",
        "    condition = True\n",
        "    while condition:\n",
        "        if g(x0) == 0.0:\n",
        "            print('Divide by zero error!')\n",
        "            break\n",
        "        \n",
        "        x1 = x0 - f(x0)/g(x0)\n",
        "        print('Iteration-%d, x1 = %0.6f and f(x1) = %0.6f' % (step, x1, f(x1)))\n",
        "        x0 = x1\n",
        "        step = step + 1\n",
        "        \n",
        "        if step > N:\n",
        "            flag = 0\n",
        "            break\n",
        "        \n",
        "        condition = abs(f(x1)) > e\n",
        "    \n",
        "    if flag==1:\n",
        "        print('\\nRequired root is: %0.8f' % x1)\n",
        "    else:\n",
        "        print('\\nNot Convergent.')\n",
        "\n",
        "\n",
        "x0 = input('Enter Guess: ')\n",
        "e = input('Tolerable Error: ')\n",
        "N = input('Maximum Step: ')\n",
        "\n",
        "x0 = float(x0)\n",
        "e = float(e)\n",
        "\n",
        "N = int(N)\n",
        "\n",
        "newtonRaphson(x0,e,N)"
      ]
    }
  ]
}