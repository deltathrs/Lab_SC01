{
  "nbformat": 4,
  "nbformat_minor": 0,
  "metadata": {
    "colab": {
      "name": "Finalproject_1d.ipynb",
      "provenance": [],
      "authorship_tag": "ABX9TyN0RzCr3AP3oPqUd5/yNjwt",
      "include_colab_link": true
    },
    "kernelspec": {
      "name": "python3",
      "display_name": "Python 3"
    },
    "language_info": {
      "name": "python"
    }
  },
  "cells": [
    {
      "cell_type": "markdown",
      "metadata": {
        "id": "view-in-github",
        "colab_type": "text"
      },
      "source": [
        "<a href=\"https://colab.research.google.com/github/deltathrs/Lab_SC01/blob/main/Finalproject_1d.ipynb\" target=\"_parent\"><img src=\"https://colab.research.google.com/assets/colab-badge.svg\" alt=\"Open In Colab\"/></a>"
      ]
    },
    {
      "cell_type": "markdown",
      "source": [
        "**1D**"
      ],
      "metadata": {
        "id": "9jvwfINdgvLB"
      }
    },
    {
      "cell_type": "code",
      "execution_count": 16,
      "metadata": {
        "colab": {
          "base_uri": "https://localhost:8080/",
          "height": 279
        },
        "id": "-UvpqQ-cbXKk",
        "outputId": "3848bc43-3890-4007-a2b2-182337b386f0"
      },
      "outputs": [
        {
          "output_type": "display_data",
          "data": {
            "text/plain": [
              "<Figure size 432x288 with 1 Axes>"
            ],
            "image/png": "[encoded data removed]"
          },
          "metadata": {
            "needs_background": "light"
          }
        }
      ],
      "source": [
        "import matplotlib.pyplot as plt\n",
        "import numpy as np\n",
        "\n",
        "year = np.array([1981,1983,1985,1987,1989,1991,1993,1995,1997,1999])\n",
        "temperature = np.array([14.1999,14.2411,14.0342,14.2696,14.197,14.3055,14.1583,14.3577,14.4187,14.3438])\n",
        "plt.xlabel('Year')\n",
        "plt.ylabel('Temperature')\n",
        "plt.scatter(year,temperature)\n",
        "plt.legend(['Temp'])\n",
        "plt.show() "
      ]
    }
  ]
}